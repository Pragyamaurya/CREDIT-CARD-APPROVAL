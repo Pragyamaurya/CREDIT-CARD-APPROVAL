{
 "cells": [
  {
   "cell_type": "markdown",
   "id": "d5d736aa-7917-44f5-ba39-a0251087b9a9",
   "metadata": {},
   "source": [
    "# DATA DESCRIPTION"
   ]
  },
  {
   "cell_type": "code",
   "execution_count": null,
   "id": "266c98ba-8ddb-4513-a2b3-e5e0da6b3b94",
   "metadata": {},
   "outputs": [],
   "source": [
    "\n",
    "1. Title: Credit Approval\n",
    "\n",
    "2. Sources: \n",
    "    (confidential)\n",
    "    Submitted by quinlan@cs.su.oz.au\n",
    "\n",
    "3.  Past Usage:\n",
    "\n",
    "    See Quinlan,\n",
    "    * \"Simplifying decision trees\", Int J Man-Machine Studies 27,\n",
    "      Dec 1987, pp. 221-234.\n",
    "    * \"C4.5: Programs for Machine Learning\", Morgan Kaufmann, Oct 1992\n",
    "  \n",
    "4.  Relevant Information:\n",
    "\n",
    "    This file concerns credit card applications.  All attribute names\n",
    "    and values have been changed to meaningless symbols to protect\n",
    "    confidentiality of the data.\n",
    "  \n",
    "    This dataset is interesting because there is a good mix of\n",
    "    attributes -- continuous, nominal with small numbers of\n",
    "    values, and nominal with larger numbers of values.  There\n",
    "    are also a few missing values.\n",
    "  \n",
    "5.  Number of Instances: 690\n",
    "\n",
    "6.  Number of Attributes: 15 + class attribute\n",
    "\n",
    "7.  Attribute Information:\n",
    "\n",
    "    A1:\tb, a.\n",
    "    A2:\tcontinuous.\n",
    "    A3:\tcontinuous.\n",
    "    A4:\tu, y, l, t.\n",
    "    A5:\tg, p, gg.\n",
    "    A6:\tc, d, cc, i, j, k, m, r, q, w, x, e, aa, ff.\n",
    "    A7:\tv, h, bb, j, n, z, dd, ff, o.\n",
    "    A8:\tcontinuous.\n",
    "    A9:\tt, f.\n",
    "    A10:\tt, f.\n",
    "    A11:\tcontinuous.\n",
    "    A12:\tt, f.\n",
    "    A13:\tg, p, s.\n",
    "    A14:\tcontinuous.\n",
    "    A15:\tcontinuous.\n",
    "    A16: +,-         (class attribute)\n",
    "\n",
    "8.  Missing Attribute Values:\n",
    "    37 cases (5%) have one or more missing values.  The missing\n",
    "    values from particular attributes are:\n",
    "\n",
    "    A1:  12\n",
    "    A2:  12\n",
    "    A4:   6\n",
    "    A5:   6\n",
    "    A6:   9\n",
    "    A7:   9\n",
    "    A14: 13\n",
    "\n",
    "9.  Class Distribution\n",
    "  \n",
    "    +: 307 (44.5%)\n",
    "    -: 383 (55.5%)\n",
    "\n"
   ]
  },
  {
   "cell_type": "code",
   "execution_count": null,
   "id": "57ac9f43-93cd-4f83-9deb-eeb20c698d07",
   "metadata": {},
   "outputs": [],
   "source": []
  },
  {
   "cell_type": "code",
   "execution_count": null,
   "id": "1d542cb1-3c82-4f41-a580-5459e345b43a",
   "metadata": {},
   "outputs": [],
   "source": []
  },
  {
   "cell_type": "markdown",
   "id": "8e5d146f-c9b7-410e-b22f-c2f4417a56af",
   "metadata": {},
   "source": [
    "# IMPORTING BASIC LIBRARIES"
   ]
  },
  {
   "cell_type": "code",
   "execution_count": 4,
   "id": "ad63627f-abff-443d-a208-7386d44771d7",
   "metadata": {},
   "outputs": [],
   "source": [
    "import pandas as pd\n",
    "import numpy as np\n",
    "import seaborn as sns\n",
    "import matplotlib.pyplot as plt\n",
    "import warnings\n",
    "warnings.filterwarnings(\"ignore\")"
   ]
  },
  {
   "cell_type": "code",
   "execution_count": null,
   "id": "4e0d989b-88c3-4e44-80a2-794e9cbb21ad",
   "metadata": {},
   "outputs": [],
   "source": []
  },
  {
   "cell_type": "code",
   "execution_count": null,
   "id": "83b0c041-14f5-40b2-b557-638b36772ca0",
   "metadata": {},
   "outputs": [],
   "source": []
  },
  {
   "cell_type": "markdown",
   "id": "047d9031-7671-413d-a225-cbe91c7bffd6",
   "metadata": {},
   "source": [
    "# READ DATA SET"
   ]
  },
  {
   "cell_type": "code",
   "execution_count": 48,
   "id": "5e680c00-b93e-4b8e-be49-08a914509dc4",
   "metadata": {},
   "outputs": [
    {
     "data": {
      "text/html": [
       "<div>\n",
       "<style scoped>\n",
       "    .dataframe tbody tr th:only-of-type {\n",
       "        vertical-align: middle;\n",
       "    }\n",
       "\n",
       "    .dataframe tbody tr th {\n",
       "        vertical-align: top;\n",
       "    }\n",
       "\n",
       "    .dataframe thead th {\n",
       "        text-align: right;\n",
       "    }\n",
       "</style>\n",
       "<table border=\"1\" class=\"dataframe\">\n",
       "  <thead>\n",
       "    <tr style=\"text-align: right;\">\n",
       "      <th></th>\n",
       "      <th>b</th>\n",
       "      <th>30.83</th>\n",
       "      <th>0</th>\n",
       "      <th>u</th>\n",
       "      <th>g</th>\n",
       "      <th>w</th>\n",
       "      <th>v</th>\n",
       "      <th>1.25</th>\n",
       "      <th>t</th>\n",
       "      <th>t.1</th>\n",
       "      <th>01</th>\n",
       "      <th>f</th>\n",
       "      <th>g.1</th>\n",
       "      <th>00202</th>\n",
       "      <th>0.1</th>\n",
       "      <th>+</th>\n",
       "    </tr>\n",
       "  </thead>\n",
       "  <tbody>\n",
       "    <tr>\n",
       "      <th>0</th>\n",
       "      <td>a</td>\n",
       "      <td>58.67</td>\n",
       "      <td>4.460</td>\n",
       "      <td>u</td>\n",
       "      <td>g</td>\n",
       "      <td>q</td>\n",
       "      <td>h</td>\n",
       "      <td>3.04</td>\n",
       "      <td>t</td>\n",
       "      <td>t</td>\n",
       "      <td>6</td>\n",
       "      <td>f</td>\n",
       "      <td>g</td>\n",
       "      <td>00043</td>\n",
       "      <td>560</td>\n",
       "      <td>+</td>\n",
       "    </tr>\n",
       "    <tr>\n",
       "      <th>1</th>\n",
       "      <td>a</td>\n",
       "      <td>24.50</td>\n",
       "      <td>0.500</td>\n",
       "      <td>u</td>\n",
       "      <td>g</td>\n",
       "      <td>q</td>\n",
       "      <td>h</td>\n",
       "      <td>1.50</td>\n",
       "      <td>t</td>\n",
       "      <td>f</td>\n",
       "      <td>0</td>\n",
       "      <td>f</td>\n",
       "      <td>g</td>\n",
       "      <td>00280</td>\n",
       "      <td>824</td>\n",
       "      <td>+</td>\n",
       "    </tr>\n",
       "    <tr>\n",
       "      <th>2</th>\n",
       "      <td>b</td>\n",
       "      <td>27.83</td>\n",
       "      <td>1.540</td>\n",
       "      <td>u</td>\n",
       "      <td>g</td>\n",
       "      <td>w</td>\n",
       "      <td>v</td>\n",
       "      <td>3.75</td>\n",
       "      <td>t</td>\n",
       "      <td>t</td>\n",
       "      <td>5</td>\n",
       "      <td>t</td>\n",
       "      <td>g</td>\n",
       "      <td>00100</td>\n",
       "      <td>3</td>\n",
       "      <td>+</td>\n",
       "    </tr>\n",
       "    <tr>\n",
       "      <th>3</th>\n",
       "      <td>b</td>\n",
       "      <td>20.17</td>\n",
       "      <td>5.625</td>\n",
       "      <td>u</td>\n",
       "      <td>g</td>\n",
       "      <td>w</td>\n",
       "      <td>v</td>\n",
       "      <td>1.71</td>\n",
       "      <td>t</td>\n",
       "      <td>f</td>\n",
       "      <td>0</td>\n",
       "      <td>f</td>\n",
       "      <td>s</td>\n",
       "      <td>00120</td>\n",
       "      <td>0</td>\n",
       "      <td>+</td>\n",
       "    </tr>\n",
       "    <tr>\n",
       "      <th>4</th>\n",
       "      <td>b</td>\n",
       "      <td>32.08</td>\n",
       "      <td>4.000</td>\n",
       "      <td>u</td>\n",
       "      <td>g</td>\n",
       "      <td>m</td>\n",
       "      <td>v</td>\n",
       "      <td>2.50</td>\n",
       "      <td>t</td>\n",
       "      <td>f</td>\n",
       "      <td>0</td>\n",
       "      <td>t</td>\n",
       "      <td>g</td>\n",
       "      <td>00360</td>\n",
       "      <td>0</td>\n",
       "      <td>+</td>\n",
       "    </tr>\n",
       "    <tr>\n",
       "      <th>...</th>\n",
       "      <td>...</td>\n",
       "      <td>...</td>\n",
       "      <td>...</td>\n",
       "      <td>...</td>\n",
       "      <td>...</td>\n",
       "      <td>...</td>\n",
       "      <td>...</td>\n",
       "      <td>...</td>\n",
       "      <td>...</td>\n",
       "      <td>...</td>\n",
       "      <td>...</td>\n",
       "      <td>...</td>\n",
       "      <td>...</td>\n",
       "      <td>...</td>\n",
       "      <td>...</td>\n",
       "      <td>...</td>\n",
       "    </tr>\n",
       "    <tr>\n",
       "      <th>684</th>\n",
       "      <td>b</td>\n",
       "      <td>21.08</td>\n",
       "      <td>10.085</td>\n",
       "      <td>y</td>\n",
       "      <td>p</td>\n",
       "      <td>e</td>\n",
       "      <td>h</td>\n",
       "      <td>1.25</td>\n",
       "      <td>f</td>\n",
       "      <td>f</td>\n",
       "      <td>0</td>\n",
       "      <td>f</td>\n",
       "      <td>g</td>\n",
       "      <td>00260</td>\n",
       "      <td>0</td>\n",
       "      <td>-</td>\n",
       "    </tr>\n",
       "    <tr>\n",
       "      <th>685</th>\n",
       "      <td>a</td>\n",
       "      <td>22.67</td>\n",
       "      <td>0.750</td>\n",
       "      <td>u</td>\n",
       "      <td>g</td>\n",
       "      <td>c</td>\n",
       "      <td>v</td>\n",
       "      <td>2.00</td>\n",
       "      <td>f</td>\n",
       "      <td>t</td>\n",
       "      <td>2</td>\n",
       "      <td>t</td>\n",
       "      <td>g</td>\n",
       "      <td>00200</td>\n",
       "      <td>394</td>\n",
       "      <td>-</td>\n",
       "    </tr>\n",
       "    <tr>\n",
       "      <th>686</th>\n",
       "      <td>a</td>\n",
       "      <td>25.25</td>\n",
       "      <td>13.500</td>\n",
       "      <td>y</td>\n",
       "      <td>p</td>\n",
       "      <td>ff</td>\n",
       "      <td>ff</td>\n",
       "      <td>2.00</td>\n",
       "      <td>f</td>\n",
       "      <td>t</td>\n",
       "      <td>1</td>\n",
       "      <td>t</td>\n",
       "      <td>g</td>\n",
       "      <td>00200</td>\n",
       "      <td>1</td>\n",
       "      <td>-</td>\n",
       "    </tr>\n",
       "    <tr>\n",
       "      <th>687</th>\n",
       "      <td>b</td>\n",
       "      <td>17.92</td>\n",
       "      <td>0.205</td>\n",
       "      <td>u</td>\n",
       "      <td>g</td>\n",
       "      <td>aa</td>\n",
       "      <td>v</td>\n",
       "      <td>0.04</td>\n",
       "      <td>f</td>\n",
       "      <td>f</td>\n",
       "      <td>0</td>\n",
       "      <td>f</td>\n",
       "      <td>g</td>\n",
       "      <td>00280</td>\n",
       "      <td>750</td>\n",
       "      <td>-</td>\n",
       "    </tr>\n",
       "    <tr>\n",
       "      <th>688</th>\n",
       "      <td>b</td>\n",
       "      <td>35.00</td>\n",
       "      <td>3.375</td>\n",
       "      <td>u</td>\n",
       "      <td>g</td>\n",
       "      <td>c</td>\n",
       "      <td>h</td>\n",
       "      <td>8.29</td>\n",
       "      <td>f</td>\n",
       "      <td>f</td>\n",
       "      <td>0</td>\n",
       "      <td>t</td>\n",
       "      <td>g</td>\n",
       "      <td>00000</td>\n",
       "      <td>0</td>\n",
       "      <td>-</td>\n",
       "    </tr>\n",
       "  </tbody>\n",
       "</table>\n",
       "<p>689 rows × 16 columns</p>\n",
       "</div>"
      ],
      "text/plain": [
       "     b  30.83       0  u  g   w   v  1.25  t t.1  01  f g.1  00202  0.1  +\n",
       "0    a  58.67   4.460  u  g   q   h  3.04  t   t   6  f   g  00043  560  +\n",
       "1    a  24.50   0.500  u  g   q   h  1.50  t   f   0  f   g  00280  824  +\n",
       "2    b  27.83   1.540  u  g   w   v  3.75  t   t   5  t   g  00100    3  +\n",
       "3    b  20.17   5.625  u  g   w   v  1.71  t   f   0  f   s  00120    0  +\n",
       "4    b  32.08   4.000  u  g   m   v  2.50  t   f   0  t   g  00360    0  +\n",
       "..  ..    ...     ... .. ..  ..  ..   ... ..  ..  .. ..  ..    ...  ... ..\n",
       "684  b  21.08  10.085  y  p   e   h  1.25  f   f   0  f   g  00260    0  -\n",
       "685  a  22.67   0.750  u  g   c   v  2.00  f   t   2  t   g  00200  394  -\n",
       "686  a  25.25  13.500  y  p  ff  ff  2.00  f   t   1  t   g  00200    1  -\n",
       "687  b  17.92   0.205  u  g  aa   v  0.04  f   f   0  f   g  00280  750  -\n",
       "688  b  35.00   3.375  u  g   c   h  8.29  f   f   0  t   g  00000    0  -\n",
       "\n",
       "[689 rows x 16 columns]"
      ]
     },
     "execution_count": 48,
     "metadata": {},
     "output_type": "execute_result"
    }
   ],
   "source": [
    "data = pd.read_table(r\"C:\\Users\\Pragya\\Downloads\\credit+approval\\crx.data\",delimiter=\",\")\n",
    "data"
   ]
  },
  {
   "cell_type": "code",
   "execution_count": null,
   "id": "4a11568d-87fc-448b-a7f2-3cb67ec1e8a3",
   "metadata": {},
   "outputs": [],
   "source": []
  },
  {
   "cell_type": "code",
   "execution_count": null,
   "id": "6526cc9b-feab-401a-9224-995705b6e3aa",
   "metadata": {},
   "outputs": [],
   "source": []
  },
  {
   "cell_type": "markdown",
   "id": "866885a6-6ccf-4558-956a-1df7ac5edadc",
   "metadata": {},
   "source": [
    "# EDA"
   ]
  },
  {
   "cell_type": "markdown",
   "id": "9cca0cdd-0196-431e-abdf-18f704ad9578",
   "metadata": {},
   "source": [
    "**SHAPE**"
   ]
  },
  {
   "cell_type": "code",
   "execution_count": 6,
   "id": "0fc8b4d9-b94e-451b-9f79-a969132dd662",
   "metadata": {},
   "outputs": [
    {
     "data": {
      "text/plain": [
       "(689, 16)"
      ]
     },
     "execution_count": 6,
     "metadata": {},
     "output_type": "execute_result"
    }
   ],
   "source": [
    "data.shape"
   ]
  },
  {
   "cell_type": "code",
   "execution_count": null,
   "id": "d0c60734-3026-4f06-8c2d-b1e3fb95cf86",
   "metadata": {},
   "outputs": [],
   "source": []
  },
  {
   "cell_type": "code",
   "execution_count": null,
   "id": "44e2b332-4d16-4112-8346-600904b8e2f6",
   "metadata": {},
   "outputs": [],
   "source": []
  },
  {
   "cell_type": "markdown",
   "id": "0b4059a8-6c9f-4e57-920a-a5a6327b7a5f",
   "metadata": {},
   "source": [
    "**COLUMNS**"
   ]
  },
  {
   "cell_type": "code",
   "execution_count": 8,
   "id": "6b722642-b1b1-449e-a72e-f86ae50d9307",
   "metadata": {},
   "outputs": [
    {
     "data": {
      "text/plain": [
       "Index(['b', '30.83', '0', 'u', 'g', 'w', 'v', '1.25', 't', 't.1', '01', 'f',\n",
       "       'g.1', '00202', '0.1', '+'],\n",
       "      dtype='object')"
      ]
     },
     "execution_count": 8,
     "metadata": {},
     "output_type": "execute_result"
    }
   ],
   "source": [
    "data.columns"
   ]
  },
  {
   "cell_type": "code",
   "execution_count": null,
   "id": "2e179063-a06f-47e6-bb1e-1cca7370cd94",
   "metadata": {},
   "outputs": [],
   "source": []
  },
  {
   "cell_type": "code",
   "execution_count": null,
   "id": "bc8aa30a-16a4-4bff-85ad-e3556840d3eb",
   "metadata": {},
   "outputs": [],
   "source": []
  },
  {
   "cell_type": "markdown",
   "id": "c99e38f7-24b9-4ac1-9669-44425acea541",
   "metadata": {},
   "source": [
    "**describe**"
   ]
  },
  {
   "cell_type": "code",
   "execution_count": 10,
   "id": "3cfa237f-677e-495f-8452-87c8e3d09d5c",
   "metadata": {},
   "outputs": [
    {
     "data": {
      "text/html": [
       "<div>\n",
       "<style scoped>\n",
       "    .dataframe tbody tr th:only-of-type {\n",
       "        vertical-align: middle;\n",
       "    }\n",
       "\n",
       "    .dataframe tbody tr th {\n",
       "        vertical-align: top;\n",
       "    }\n",
       "\n",
       "    .dataframe thead th {\n",
       "        text-align: right;\n",
       "    }\n",
       "</style>\n",
       "<table border=\"1\" class=\"dataframe\">\n",
       "  <thead>\n",
       "    <tr style=\"text-align: right;\">\n",
       "      <th></th>\n",
       "      <th>0</th>\n",
       "      <th>1.25</th>\n",
       "      <th>01</th>\n",
       "      <th>0.1</th>\n",
       "    </tr>\n",
       "  </thead>\n",
       "  <tbody>\n",
       "    <tr>\n",
       "      <th>count</th>\n",
       "      <td>689.000000</td>\n",
       "      <td>689.000000</td>\n",
       "      <td>689.000000</td>\n",
       "      <td>689.000000</td>\n",
       "    </tr>\n",
       "    <tr>\n",
       "      <th>mean</th>\n",
       "      <td>4.765631</td>\n",
       "      <td>2.224819</td>\n",
       "      <td>2.402032</td>\n",
       "      <td>1018.862119</td>\n",
       "    </tr>\n",
       "    <tr>\n",
       "      <th>std</th>\n",
       "      <td>4.978470</td>\n",
       "      <td>3.348739</td>\n",
       "      <td>4.866180</td>\n",
       "      <td>5213.743149</td>\n",
       "    </tr>\n",
       "    <tr>\n",
       "      <th>min</th>\n",
       "      <td>0.000000</td>\n",
       "      <td>0.000000</td>\n",
       "      <td>0.000000</td>\n",
       "      <td>0.000000</td>\n",
       "    </tr>\n",
       "    <tr>\n",
       "      <th>25%</th>\n",
       "      <td>1.000000</td>\n",
       "      <td>0.165000</td>\n",
       "      <td>0.000000</td>\n",
       "      <td>0.000000</td>\n",
       "    </tr>\n",
       "    <tr>\n",
       "      <th>50%</th>\n",
       "      <td>2.750000</td>\n",
       "      <td>1.000000</td>\n",
       "      <td>0.000000</td>\n",
       "      <td>5.000000</td>\n",
       "    </tr>\n",
       "    <tr>\n",
       "      <th>75%</th>\n",
       "      <td>7.250000</td>\n",
       "      <td>2.625000</td>\n",
       "      <td>3.000000</td>\n",
       "      <td>396.000000</td>\n",
       "    </tr>\n",
       "    <tr>\n",
       "      <th>max</th>\n",
       "      <td>28.000000</td>\n",
       "      <td>28.500000</td>\n",
       "      <td>67.000000</td>\n",
       "      <td>100000.000000</td>\n",
       "    </tr>\n",
       "  </tbody>\n",
       "</table>\n",
       "</div>"
      ],
      "text/plain": [
       "                0        1.25          01            0.1\n",
       "count  689.000000  689.000000  689.000000     689.000000\n",
       "mean     4.765631    2.224819    2.402032    1018.862119\n",
       "std      4.978470    3.348739    4.866180    5213.743149\n",
       "min      0.000000    0.000000    0.000000       0.000000\n",
       "25%      1.000000    0.165000    0.000000       0.000000\n",
       "50%      2.750000    1.000000    0.000000       5.000000\n",
       "75%      7.250000    2.625000    3.000000     396.000000\n",
       "max     28.000000   28.500000   67.000000  100000.000000"
      ]
     },
     "execution_count": 10,
     "metadata": {},
     "output_type": "execute_result"
    }
   ],
   "source": [
    "data.describe()"
   ]
  },
  {
   "cell_type": "code",
   "execution_count": null,
   "id": "ff210910-819c-428c-932e-6c24f7d355bb",
   "metadata": {},
   "outputs": [],
   "source": []
  },
  {
   "cell_type": "code",
   "execution_count": null,
   "id": "990ae2a4-2e48-485a-8d32-cee598dafa2a",
   "metadata": {},
   "outputs": [],
   "source": []
  },
  {
   "cell_type": "markdown",
   "id": "3210d6ce-1a91-49ec-8f54-1cf569108665",
   "metadata": {},
   "source": [
    "**INFO**"
   ]
  },
  {
   "cell_type": "code",
   "execution_count": 11,
   "id": "768724cb-f76e-40e5-9cb6-60029323f86f",
   "metadata": {},
   "outputs": [
    {
     "name": "stdout",
     "output_type": "stream",
     "text": [
      "<class 'pandas.core.frame.DataFrame'>\n",
      "RangeIndex: 689 entries, 0 to 688\n",
      "Data columns (total 16 columns):\n",
      " #   Column  Non-Null Count  Dtype  \n",
      "---  ------  --------------  -----  \n",
      " 0   b       689 non-null    object \n",
      " 1   30.83   689 non-null    object \n",
      " 2   0       689 non-null    float64\n",
      " 3   u       689 non-null    object \n",
      " 4   g       689 non-null    object \n",
      " 5   w       689 non-null    object \n",
      " 6   v       689 non-null    object \n",
      " 7   1.25    689 non-null    float64\n",
      " 8   t       689 non-null    object \n",
      " 9   t.1     689 non-null    object \n",
      " 10  01      689 non-null    int64  \n",
      " 11  f       689 non-null    object \n",
      " 12  g.1     689 non-null    object \n",
      " 13  00202   689 non-null    object \n",
      " 14  0.1     689 non-null    int64  \n",
      " 15  +       689 non-null    object \n",
      "dtypes: float64(2), int64(2), object(12)\n",
      "memory usage: 86.3+ KB\n"
     ]
    }
   ],
   "source": [
    "data.info()"
   ]
  },
  {
   "cell_type": "code",
   "execution_count": null,
   "id": "1667b048-191d-403a-840d-88105e120213",
   "metadata": {},
   "outputs": [],
   "source": []
  },
  {
   "cell_type": "code",
   "execution_count": null,
   "id": "d26659e5-8a55-4fbb-875a-1fea098a2052",
   "metadata": {},
   "outputs": [],
   "source": []
  },
  {
   "cell_type": "markdown",
   "id": "e258ad08-81fb-4714-8515-848a5d79e637",
   "metadata": {},
   "source": [
    "**datatypes**"
   ]
  },
  {
   "cell_type": "code",
   "execution_count": 13,
   "id": "d871c861-8dad-4bfa-9bb1-0805b8db500d",
   "metadata": {},
   "outputs": [
    {
     "data": {
      "text/plain": [
       "b         object\n",
       "30.83     object\n",
       "0        float64\n",
       "u         object\n",
       "g         object\n",
       "w         object\n",
       "v         object\n",
       "1.25     float64\n",
       "t         object\n",
       "t.1       object\n",
       "01         int64\n",
       "f         object\n",
       "g.1       object\n",
       "00202     object\n",
       "0.1        int64\n",
       "+         object\n",
       "dtype: object"
      ]
     },
     "execution_count": 13,
     "metadata": {},
     "output_type": "execute_result"
    }
   ],
   "source": [
    "data.dtypes"
   ]
  },
  {
   "cell_type": "code",
   "execution_count": null,
   "id": "b4be9e84-1503-498f-9c0d-157f023c0a14",
   "metadata": {},
   "outputs": [],
   "source": []
  },
  {
   "cell_type": "code",
   "execution_count": null,
   "id": "e661e75c-83e5-4664-9d53-1a8382c88d0d",
   "metadata": {},
   "outputs": [],
   "source": []
  },
  {
   "cell_type": "markdown",
   "id": "7abd1fce-635c-4ac0-8c72-d9ea44b73cca",
   "metadata": {},
   "source": [
    "**ANAMOLY DETECTION**"
   ]
  },
  {
   "cell_type": "code",
   "execution_count": 16,
   "id": "51fd7a32-db3e-4537-b7d9-9db29cefa345",
   "metadata": {},
   "outputs": [
    {
     "name": "stdout",
     "output_type": "stream",
     "text": [
      "{'b': array(['a', 'b', '?'], dtype=object)}\n",
      "{'30.83': array(['58.67', '24.50', '27.83', '20.17', '32.08', '33.17', '22.92',\n",
      "       '54.42', '42.50', '22.08', '29.92', '38.25', '48.08', '45.83',\n",
      "       '36.67', '28.25', '23.25', '21.83', '19.17', '25.00', '47.75',\n",
      "       '27.42', '41.17', '15.83', '47.00', '56.58', '57.42', '42.08',\n",
      "       '29.25', '42.00', '49.50', '36.75', '22.58', '27.25', '23.00',\n",
      "       '27.75', '54.58', '34.17', '28.92', '29.67', '39.58', '56.42',\n",
      "       '54.33', '41.00', '31.92', '41.50', '23.92', '25.75', '26.00',\n",
      "       '37.42', '34.92', '34.25', '23.33', '23.17', '44.33', '35.17',\n",
      "       '43.25', '56.75', '31.67', '23.42', '20.42', '26.67', '36.00',\n",
      "       '25.50', '19.42', '32.33', '34.83', '38.58', '44.25', '44.83',\n",
      "       '20.67', '34.08', '21.67', '21.50', '49.58', '27.67', '39.83', '?',\n",
      "       '37.17', '25.67', '34.00', '49.00', '62.50', '31.42', '52.33',\n",
      "       '28.75', '28.58', '22.50', '28.50', '37.50', '35.25', '18.67',\n",
      "       '54.83', '40.92', '19.75', '29.17', '24.58', '33.75', '25.42',\n",
      "       '37.75', '52.50', '57.83', '20.75', '39.92', '24.75', '44.17',\n",
      "       '23.50', '47.67', '22.75', '34.42', '28.42', '67.75', '47.42',\n",
      "       '36.25', '32.67', '48.58', '33.58', '18.83', '26.92', '31.25',\n",
      "       '56.50', '43.00', '22.33', '32.83', '40.33', '30.50', '52.83',\n",
      "       '46.67', '58.33', '37.33', '23.08', '32.75', '68.67', '28.00',\n",
      "       '44.00', '25.08', '32.00', '60.58', '40.83', '19.33', '41.33',\n",
      "       '56.00', '49.83', '22.67', '27.00', '26.08', '18.42', '21.25',\n",
      "       '57.08', '22.42', '48.75', '40.00', '40.58', '28.67', '33.08',\n",
      "       '21.33', '41.75', '34.50', '48.17', '27.58', '24.08', '24.83',\n",
      "       '36.33', '35.42', '71.58', '39.50', '39.33', '24.33', '60.08',\n",
      "       '55.92', '53.92', '18.92', '50.08', '65.42', '17.58', '18.08',\n",
      "       '19.67', '25.17', '33.50', '58.42', '26.17', '42.83', '38.17',\n",
      "       '20.50', '48.25', '28.33', '18.75', '18.50', '45.00', '40.25',\n",
      "       '41.42', '17.83', '18.17', '20.00', '52.17', '50.75', '17.08',\n",
      "       '18.33', '59.67', '18.00', '37.58', '30.67', '18.58', '16.25',\n",
      "       '21.17', '17.67', '16.50', '29.50', '21.75', '18.25', '35.75',\n",
      "       '16.08', '69.17', '32.92', '16.33', '22.17', '57.58', '15.92',\n",
      "       '31.75', '19.00', '17.50', '33.67', '30.17', '33.25', '25.25',\n",
      "       '34.75', '47.33', '39.08', '42.75', '38.92', '62.75', '32.25',\n",
      "       '26.75', '63.33', '30.75', '16.00', '19.50', '32.42', '30.25',\n",
      "       '26.83', '16.92', '24.42', '39.42', '23.58', '21.42', '33.00',\n",
      "       '26.33', '26.25', '28.17', '20.83', '43.17', '56.83', '15.17',\n",
      "       '29.83', '31.00', '51.92', '69.50', '19.58', '22.25', '38.42',\n",
      "       '26.58', '35.00', '29.42', '49.17', '51.83', '58.58', '53.33',\n",
      "       '27.17', '25.92', '30.58', '17.25', '27.33', '36.50', '29.75',\n",
      "       '52.42', '36.17', '34.58', '21.92', '36.58', '31.08', '30.42',\n",
      "       '21.08', '17.42', '39.17', '26.50', '17.33', '23.75', '34.67',\n",
      "       '74.83', '45.33', '47.25', '24.17', '39.25', '39.00', '64.08',\n",
      "       '31.33', '21.00', '13.75', '46.00', '20.25', '60.92', '30.00',\n",
      "       '22.83', '45.17', '41.58', '55.75', '25.33', '31.83', '33.92',\n",
      "       '24.92', '80.25', '30.08', '48.33', '76.75', '51.33', '41.92',\n",
      "       '29.58', '32.17', '51.42', '42.17', '43.08', '59.50', '65.17',\n",
      "       '20.33', '48.50', '28.08', '73.42', '51.58', '38.67', '46.08',\n",
      "       '20.08', '42.25', '16.17', '47.83', '22.00', '38.33', '25.58',\n",
      "       '21.58', '36.08', '38.75', '35.58', '31.58', '15.75', '17.92',\n",
      "       '30.33', '47.17', '25.83', '50.25', '36.42'], dtype=object)}\n",
      "{'0': array([ 4.46 ,  0.5  ,  1.54 ,  5.625,  4.   ,  1.04 , 11.585,  4.915,\n",
      "        0.83 ,  1.835,  6.   ,  6.04 , 10.5  ,  4.415,  0.875,  5.875,\n",
      "        0.25 ,  8.585, 11.25 ,  1.   ,  8.   , 14.5  ,  6.5  ,  0.585,\n",
      "       13.   , 18.5  ,  8.5  , 14.79 ,  9.79 ,  7.585,  5.125, 10.75 ,\n",
      "        1.5  ,  1.585, 11.75 ,  9.415,  9.17 , 15.   ,  1.415, 13.915,\n",
      "       28.   ,  6.75 ,  2.04 ,  0.665,  2.5  ,  3.   , 11.625,  0.   ,\n",
      "        4.5  , 12.25 , 16.165,  0.79 ,  0.835,  4.25 ,  0.375, 25.125,\n",
      "        7.5  ,  5.   ,  7.   ,  5.29 ,  1.165,  9.75 , 19.   ,  3.5  ,\n",
      "        0.625,  2.21 , 12.75 , 15.5  ,  1.375,  3.54 , 11.   ,  1.75 ,\n",
      "       16.5  , 12.   ,  2.25 ,  0.75 , 12.5  ,  1.25 ,  1.125,  7.04 ,\n",
      "       10.335,  6.21 ,  6.665,  9.   ,  5.5  ,  0.54 ,  2.75 ,  9.5  ,\n",
      "       13.5  ,  3.75 , 16.   ,  0.29 ,  1.665,  7.54 ,  0.46 , 10.   ,\n",
      "       11.5  ,  3.04 ,  2.   ,  0.08 ,  1.71 ,  3.25 ,  2.54 , 13.585,\n",
      "        8.665,  9.25 ,  8.17 ,  2.335, 19.5  ,  5.665,  4.625,  0.205,\n",
      "        0.96 ,  4.04 ,  5.04 ,  3.165,  7.625, 10.04 , 10.25 ,  2.125,\n",
      "        9.335,  6.625,  2.71 ,  9.625, 12.54 ,  9.54 ,  8.46 , 13.75 ,\n",
      "       21.   , 10.125, 25.085,  0.21 , 21.5  , 11.125, 11.045,  1.335,\n",
      "        0.085,  1.21 ,  0.165,  5.71 ,  5.415, 12.625,  0.58 ,  0.415,\n",
      "        2.415,  0.335,  3.125, 12.125,  2.875, 13.665, 26.335, 10.29 ,\n",
      "        1.29 , 22.   ,  0.125,  1.085,  4.085,  4.71 ,  6.165,  4.585,\n",
      "       11.46 , 14.585,  0.17 ,  1.625,  2.085,  5.085,  8.125,  2.835,\n",
      "        1.79 ,  0.705,  2.165,  2.29 , 18.125,  3.085, 11.665,  4.125,\n",
      "        1.08 , 13.335, 11.835,  4.79 ,  9.96 ,  7.08 , 25.21 ,  0.67 ,\n",
      "        3.79 , 22.29 ,  3.335,  0.42 ,  1.46 ,  0.04 , 12.33 , 12.335,\n",
      "        0.915, 14.   , 17.75 , 20.   ,  5.25 ,  4.165, 10.915,  4.75 ,\n",
      "       10.415,  7.835,  0.71 ,  2.46 ,  9.585,  3.625,  2.665,  5.835,\n",
      "       12.835, 10.665,  7.25 , 10.21 ,  3.29 , 10.085,  3.375])}\n",
      "{'u': array(['u', 'y', '?', 'l'], dtype=object)}\n",
      "{'g': array(['g', 'p', '?', 'gg'], dtype=object)}\n",
      "{'w': array(['q', 'w', 'm', 'r', 'cc', 'k', 'c', 'd', 'x', 'i', 'e', 'aa', 'ff',\n",
      "       'j', '?'], dtype=object)}\n",
      "{'v': array(['h', 'v', 'bb', 'ff', 'j', 'z', '?', 'o', 'dd', 'n'], dtype=object)}\n",
      "{'1.25': array([ 3.04 ,  1.5  ,  3.75 ,  1.71 ,  2.5  ,  6.5  ,  0.04 ,  3.96 ,\n",
      "        3.165,  2.165,  4.335,  1.   ,  5.   ,  0.25 ,  0.96 ,  3.17 ,\n",
      "        0.665,  0.75 ,  0.835,  7.875,  3.085,  0.5  ,  5.165, 15.   ,\n",
      "        7.   ,  5.04 ,  7.96 ,  7.585,  0.415,  2.   ,  1.835, 14.415,\n",
      "        4.5  ,  5.335,  8.625, 28.5  ,  2.625,  0.125,  6.04 ,  3.5  ,\n",
      "        0.165,  0.875,  1.75 ,  0.   ,  7.415,  0.085,  5.75 ,  6.   ,\n",
      "        1.25 ,  3.   ,  1.585,  4.29 ,  1.54 ,  1.46 ,  1.625, 12.5  ,\n",
      "       13.5  , 10.75 ,  0.375,  0.585,  0.455,  4.   ,  8.5  ,  9.46 ,\n",
      "        2.25 , 10.   ,  0.795,  1.375,  1.29 , 11.5  ,  6.29 , 14.   ,\n",
      "        0.335,  1.21 ,  7.375,  7.5  ,  3.25 , 13.   ,  5.5  ,  4.25 ,\n",
      "        0.625,  5.085,  2.75 ,  2.375,  8.   ,  1.085,  2.54 ,  4.165,\n",
      "        1.665, 11.   ,  9.   ,  1.335,  1.415,  1.96 ,  2.585,  5.125,\n",
      "       15.5  ,  0.71 ,  5.665, 18.   ,  5.25 ,  8.665,  2.29 , 20.   ,\n",
      "        2.46 , 13.875,  2.085,  4.58 ,  2.71 ,  2.04 ,  0.29 ,  4.75 ,\n",
      "        0.46 ,  0.21 ,  0.54 ,  3.335,  2.335,  1.165,  2.415,  2.79 ,\n",
      "        4.625,  1.04 ,  6.75 ,  1.875, 16.   , 12.75 ,  5.375,  2.125,\n",
      "       17.5  ,  3.125,  0.79 ,  8.29 ])}\n",
      "{'t': array(['t', 'f'], dtype=object)}\n",
      "{'t.1': array(['t', 'f'], dtype=object)}\n",
      "{'01': array([ 6,  0,  5,  7, 10,  3, 17,  1,  2,  9,  8, 15, 11, 12, 40, 23,  4,\n",
      "       20, 67, 14, 16, 13, 19], dtype=int64)}\n",
      "{'f': array(['f', 't'], dtype=object)}\n",
      "{'g.1': array(['g', 's', 'p'], dtype=object)}\n",
      "{'00202': array(['00043', '00280', '00100', '00120', '00360', '00164', '00080',\n",
      "       '00180', '00052', '00128', '00260', '00000', '00320', '00396',\n",
      "       '00096', '00200', '00300', '00145', '00500', '00168', '00434',\n",
      "       '00583', '00030', '00240', '00070', '00455', '00311', '00216',\n",
      "       '00491', '00400', '00239', '00160', '00711', '00250', '00520',\n",
      "       '00515', '00420', '?', '00980', '00443', '00140', '00094', '00368',\n",
      "       '00288', '00928', '00188', '00112', '00171', '00268', '00167',\n",
      "       '00075', '00152', '00176', '00329', '00212', '00410', '00274',\n",
      "       '00375', '00408', '00350', '00204', '00040', '00181', '00399',\n",
      "       '00440', '00093', '00060', '00395', '00393', '00021', '00029',\n",
      "       '00102', '00431', '00370', '00024', '00020', '00129', '00510',\n",
      "       '00195', '00144', '00380', '00049', '00050', '00381', '00150',\n",
      "       '00117', '00056', '00211', '00230', '00156', '00022', '00228',\n",
      "       '00519', '00253', '00487', '00220', '00088', '00073', '00121',\n",
      "       '00470', '00136', '00132', '00292', '00154', '00272', '00340',\n",
      "       '00108', '00720', '00450', '00232', '00170', '01160', '00411',\n",
      "       '00460', '00348', '00480', '00640', '00372', '00276', '00221',\n",
      "       '00352', '00141', '00178', '00600', '00550', '02000', '00225',\n",
      "       '00210', '00110', '00356', '00045', '00062', '00092', '00174',\n",
      "       '00017', '00086', '00454', '00254', '00028', '00263', '00333',\n",
      "       '00312', '00290', '00371', '00099', '00252', '00760', '00560',\n",
      "       '00130', '00523', '00680', '00163', '00208', '00383', '00330',\n",
      "       '00422', '00840', '00432', '00032', '00186', '00303', '00349',\n",
      "       '00224', '00369', '00076', '00231', '00309', '00416', '00465',\n",
      "       '00256'], dtype=object)}\n",
      "{'0.1': array([   560,    824,      3,      0,  31285,   1349,    314,   1442,\n",
      "          200,   2690,    245,   1208,   1260,     11,  10000,   5000,\n",
      "         4000,     35,    713,    551,    500,    300,    221,   2283,\n",
      "          100,     15,    284,   1236,   5800,    730,    400,  50000,\n",
      "          456,  15108,   2954,      2,     20,     27,    225,      1,\n",
      "           38,      5,    130,    147,    210,  11202,   1332,     50,\n",
      "          258,    567,   1000,   2510,    809,    610,    150,  51100,\n",
      "          367,    600,    247,    375,    278,    827,   2072,    582,\n",
      "         2300,   3065,   2200,      6,   1602,   2184,   3376,   2000,\n",
      "         7544,  10561,    837,  11177,    639,   2028,   1065,    540,\n",
      "          158,  15000,   3000,   3257,   1655,   1430,      7,    790,\n",
      "          396,    678,   1187,   6590,    168,   1270,   1210,    742,\n",
      "         8851,   7059,   1704,    857,   6700,   2503,   9800,    196,\n",
      "           14,  26726,  18027,     99,    444,   1200,   2010,     13,\n",
      "          120,     32,    722,     40,    484,    204,     98,   5552,\n",
      "          105,   2803,    126,      4,     21,    173,     10,     25,\n",
      "           42, 100000,    113,      8,     44,   2732,    179,     16,\n",
      "         1062,    251,    228,     67,     12,    122,   4208,   1300,\n",
      "          112,   1110,   1004,    286,   4500,   1212,    195,     87,\n",
      "           17,    184,    140,     18,    146,     22,     55,     70,\n",
      "           60,   1058,    769,   5200,     19,    316,    350,   3552,\n",
      "          687,   1950,     53,     41,     33,     80,    351,   2100,\n",
      "          475,    892,   4607,   2206,   5860,     28,   1391,   2279,\n",
      "          591,    960,    690,    234,    800,    990,   2197,     90,\n",
      "          340,    347,    327,   4071,    109,   1249,    134,   1344,\n",
      "          321,    948,   2079,   2384,    458,   5298,    162,   1583,\n",
      "           58,     59,   1400,   1465,   8000,   4700,   1097,   3290,\n",
      "        13212,   5777,   5124,     23,   4159,    918,    768,    283,\n",
      "          108,      9,     68,    587,    141,    501,    160,    390,\n",
      "          154,    117,    246,    237,    364,    537,    394,    750],\n",
      "      dtype=int64)}\n",
      "{'+': array(['+', '-'], dtype=object)}\n"
     ]
    }
   ],
   "source": [
    "for i in data.columns:\n",
    "    print({i:data[i].unique()})\n"
   ]
  },
  {
   "cell_type": "markdown",
   "id": "182f15c6-f5c5-4c65-8d75-98f19f2917d9",
   "metadata": {},
   "source": [
    "* ? is detected as anamoly  \n",
    "* I am replacing ? with np.nan"
   ]
  },
  {
   "cell_type": "code",
   "execution_count": null,
   "id": "a3f44228-d604-4cd2-9404-49c815516e32",
   "metadata": {},
   "outputs": [],
   "source": []
  },
  {
   "cell_type": "code",
   "execution_count": null,
   "id": "cdd95a98-981f-4372-92ae-dab25f5083ab",
   "metadata": {},
   "outputs": [],
   "source": []
  },
  {
   "cell_type": "markdown",
   "id": "09b3fd6a-50c6-49bc-9ded-7a02015b91f2",
   "metadata": {},
   "source": [
    "# PREPROCESSING"
   ]
  },
  {
   "cell_type": "code",
   "execution_count": null,
   "id": "0f99b842-4938-4ac8-af91-82fec707fcfb",
   "metadata": {},
   "outputs": [],
   "source": []
  },
  {
   "cell_type": "code",
   "execution_count": null,
   "id": "69c6b68b-e95b-492f-9207-dbd2ca475412",
   "metadata": {},
   "outputs": [],
   "source": []
  },
  {
   "cell_type": "markdown",
   "id": "9f54819b-a750-42f3-8192-1544f2decd8f",
   "metadata": {},
   "source": [
    "**handling anamoly**"
   ]
  },
  {
   "cell_type": "code",
   "execution_count": 49,
   "id": "3eb5c424-7f7b-4cf1-ac15-7e50ded379e8",
   "metadata": {},
   "outputs": [
    {
     "data": {
      "text/plain": [
       "b        12\n",
       "30.83    12\n",
       "0         0\n",
       "u         6\n",
       "g         6\n",
       "w         9\n",
       "v         9\n",
       "1.25      0\n",
       "t         0\n",
       "t.1       0\n",
       "01        0\n",
       "f         0\n",
       "g.1       0\n",
       "00202    13\n",
       "0.1       0\n",
       "+         0\n",
       "dtype: int64"
      ]
     },
     "execution_count": 49,
     "metadata": {},
     "output_type": "execute_result"
    }
   ],
   "source": [
    "# replacing ? by nan\n",
    "data.replace(\"?\",np.nan,inplace=True)\n",
    "data.isnull().sum()"
   ]
  },
  {
   "cell_type": "code",
   "execution_count": null,
   "id": "900fee87-18f7-4d18-b2ee-c3ee1b0ba22b",
   "metadata": {},
   "outputs": [],
   "source": []
  },
  {
   "cell_type": "code",
   "execution_count": null,
   "id": "d87587d1-82a7-4e68-9f29-0aebc5b1d6ca",
   "metadata": {},
   "outputs": [],
   "source": []
  },
  {
   "cell_type": "markdown",
   "id": "93f485da-e945-4873-b6fd-d127760d1fde",
   "metadata": {},
   "source": [
    "**MISSING VALUES**"
   ]
  },
  {
   "cell_type": "code",
   "execution_count": 18,
   "id": "f17e3060-032b-4265-94ba-9826c970be78",
   "metadata": {},
   "outputs": [
    {
     "data": {
      "text/plain": [
       "b        12\n",
       "30.83    12\n",
       "0         0\n",
       "u         6\n",
       "g         6\n",
       "w         9\n",
       "v         9\n",
       "1.25      0\n",
       "t         0\n",
       "t.1       0\n",
       "01        0\n",
       "f         0\n",
       "g.1       0\n",
       "00202    13\n",
       "0.1       0\n",
       "+         0\n",
       "dtype: int64"
      ]
     },
     "execution_count": 18,
     "metadata": {},
     "output_type": "execute_result"
    }
   ],
   "source": [
    "data.isnull().sum()"
   ]
  },
  {
   "cell_type": "code",
   "execution_count": null,
   "id": "710acbbc-525b-4f01-82cf-7af3942b7c95",
   "metadata": {},
   "outputs": [],
   "source": []
  },
  {
   "cell_type": "code",
   "execution_count": null,
   "id": "ed3c78e3-b86c-412b-99fb-110824089219",
   "metadata": {},
   "outputs": [],
   "source": []
  },
  {
   "cell_type": "markdown",
   "id": "7975bd93-9125-49a9-b845-8047f1b919d4",
   "metadata": {},
   "source": [
    "**HANDLING MISSING VALUES**"
   ]
  },
  {
   "cell_type": "code",
   "execution_count": 50,
   "id": "cfd5864c-142b-4fcc-8a51-ec4bde91e7bd",
   "metadata": {},
   "outputs": [],
   "source": [
    "for x in data.columns:\n",
    "    if data[x].dtype=='object' or data[x].dtype=='bool':      # for categorical\n",
    "        data[x].fillna(data[x].mode()[0],inplace=True)\n",
    "    elif data[x].dtype=='int64' or data[x].dtype=='float64':    # for numerical\n",
    "        data[x].fillna(round(data[x].mean()),inplace=True)\n",
    " "
   ]
  },
  {
   "cell_type": "code",
   "execution_count": 20,
   "id": "f4508a6b-5d41-4f93-b821-a92a67e30223",
   "metadata": {},
   "outputs": [
    {
     "data": {
      "text/plain": [
       "b        0\n",
       "30.83    0\n",
       "0        0\n",
       "u        0\n",
       "g        0\n",
       "w        0\n",
       "v        0\n",
       "1.25     0\n",
       "t        0\n",
       "t.1      0\n",
       "01       0\n",
       "f        0\n",
       "g.1      0\n",
       "00202    0\n",
       "0.1      0\n",
       "+        0\n",
       "dtype: int64"
      ]
     },
     "execution_count": 20,
     "metadata": {},
     "output_type": "execute_result"
    }
   ],
   "source": [
    "data.isnull().sum()"
   ]
  },
  {
   "cell_type": "code",
   "execution_count": null,
   "id": "2c2520bd-ec53-42c7-94cf-35d31bc4bec1",
   "metadata": {},
   "outputs": [],
   "source": []
  },
  {
   "cell_type": "code",
   "execution_count": null,
   "id": "6bd34378-e8b1-4f47-8070-c5f17d704cf5",
   "metadata": {},
   "outputs": [],
   "source": []
  },
  {
   "cell_type": "markdown",
   "id": "0cc1acfa-baa9-401a-b158-4608a05b6c7a",
   "metadata": {},
   "source": [
    "**DISTRIBUTION OF TARGET VARIABLE**"
   ]
  },
  {
   "cell_type": "code",
   "execution_count": 51,
   "id": "9a6d9095-48b0-45b5-af9a-b99d1a194391",
   "metadata": {},
   "outputs": [
    {
     "data": {
      "text/plain": [
       "+\n",
       "-    383\n",
       "+    306\n",
       "Name: count, dtype: int64"
      ]
     },
     "execution_count": 51,
     "metadata": {},
     "output_type": "execute_result"
    }
   ],
   "source": [
    "data[\"+\"].value_counts()"
   ]
  },
  {
   "cell_type": "code",
   "execution_count": null,
   "id": "c04e4ac5-8007-426e-b879-c96c93f85bc8",
   "metadata": {},
   "outputs": [],
   "source": []
  },
  {
   "cell_type": "code",
   "execution_count": null,
   "id": "a30e5812-ce8d-4038-9625-94a7f0335a26",
   "metadata": {},
   "outputs": [],
   "source": []
  },
  {
   "cell_type": "markdown",
   "id": "d09683ba-3a91-47d1-844d-cc5ba052d4c1",
   "metadata": {},
   "source": [
    "**CONVERTING CATEGORICAL DATA TO NUMERICAL DATA**"
   ]
  },
  {
   "cell_type": "code",
   "execution_count": 52,
   "id": "8a73098c-84f9-4858-9cce-165eb58f9d11",
   "metadata": {},
   "outputs": [
    {
     "name": "stdout",
     "output_type": "stream",
     "text": [
      "['b', '30.83', 'u', 'g', 'w', 'v', 't', 't.1', 'f', 'g.1', '00202', '+']\n"
     ]
    }
   ],
   "source": [
    "colname=[]\n",
    "for x in data.columns:\n",
    "    if data[x].dtype=='object':\n",
    "        colname.append(x)\n",
    "print(colname)\n",
    "\n",
    "\n",
    "\n",
    "# appliying fit transform method to all the columns (transform_method) i.e categorical to numerical\n",
    "# For preprocessing the data\n",
    "from sklearn.preprocessing import LabelEncoder\n",
    " \n",
    "le=LabelEncoder()\n",
    " \n",
    "for x in colname:\n",
    "    data[x]=le.fit_transform(data[x])\n",
    "\n"
   ]
  },
  {
   "cell_type": "code",
   "execution_count": null,
   "id": "58385e96-ed60-4637-a484-e4731946f78f",
   "metadata": {},
   "outputs": [],
   "source": []
  },
  {
   "cell_type": "code",
   "execution_count": null,
   "id": "ca128347-3885-4a32-ba3d-3dfafec82296",
   "metadata": {},
   "outputs": [],
   "source": []
  },
  {
   "cell_type": "markdown",
   "id": "3ba0677b-9728-4bbc-9b7f-5d8bd9c6f303",
   "metadata": {},
   "source": [
    "**CREATING X AND Y**"
   ]
  },
  {
   "cell_type": "code",
   "execution_count": 53,
   "id": "511b9134-b5eb-4a3c-880a-fe67134cc98e",
   "metadata": {},
   "outputs": [],
   "source": [
    "X = data.values[:,0:-1]\n",
    "Y = data.values[:,-1]"
   ]
  },
  {
   "cell_type": "code",
   "execution_count": 23,
   "id": "52ec2d6b-1ee2-4ff4-86f1-80c4518a2abe",
   "metadata": {},
   "outputs": [
    {
     "data": {
      "text/plain": [
       "(689, 15)"
      ]
     },
     "execution_count": 23,
     "metadata": {},
     "output_type": "execute_result"
    }
   ],
   "source": [
    "X.shape"
   ]
  },
  {
   "cell_type": "code",
   "execution_count": 25,
   "id": "9f8e99d4-6f9f-4d85-8bc5-2709fa6baa3c",
   "metadata": {},
   "outputs": [
    {
     "data": {
      "text/plain": [
       "(689,)"
      ]
     },
     "execution_count": 25,
     "metadata": {},
     "output_type": "execute_result"
    }
   ],
   "source": [
    "Y.shape"
   ]
  },
  {
   "cell_type": "code",
   "execution_count": null,
   "id": "a7a44783-f510-4ffe-9961-ce1b2208e259",
   "metadata": {},
   "outputs": [],
   "source": []
  },
  {
   "cell_type": "code",
   "execution_count": null,
   "id": "639b015c-a146-48f0-a52d-87586f38d1a8",
   "metadata": {},
   "outputs": [],
   "source": []
  },
  {
   "cell_type": "markdown",
   "id": "bef4eef3-51d5-44e1-96fc-01e566bad438",
   "metadata": {},
   "source": [
    "**SCALING**"
   ]
  },
  {
   "cell_type": "code",
   "execution_count": 54,
   "id": "17eaebe0-3faf-479b-b3ec-556bb934e97f",
   "metadata": {},
   "outputs": [
    {
     "data": {
      "text/plain": [
       "array([[-1.51028222,  1.96283334, -0.06143521, ..., -0.31742431,\n",
       "        -0.97490469, -0.08807405],\n",
       "       [-1.51028222, -0.60757687, -0.85743812, ..., -0.31742431,\n",
       "         0.85192895, -0.03740186],\n",
       "       [ 0.6621279 , -0.21877533, -0.64838685, ..., -0.31742431,\n",
       "        -0.5399443 , -0.1949847 ],\n",
       "       ...,\n",
       "       [-1.51028222, -0.52117653,  1.75570273, ..., -0.31742431,\n",
       "         0.2429844 , -0.19536858],\n",
       "       [ 0.6621279 , -1.35277983, -0.91673631, ..., -0.31742431,\n",
       "         0.85192895, -0.05160543],\n",
       "       [ 0.6621279 ,  0.54802772, -0.27953197, ..., -0.31742431,\n",
       "        -1.2141329 , -0.19556052]])"
      ]
     },
     "execution_count": 54,
     "metadata": {},
     "output_type": "execute_result"
    }
   ],
   "source": [
    "from sklearn.preprocessing import StandardScaler\n",
    "\n",
    "scaler = StandardScaler()     \n",
    "\n",
    "scaler.fit(X)                \n",
    "scaler.transform(X)       "
   ]
  },
  {
   "cell_type": "code",
   "execution_count": null,
   "id": "d1ceb417-9ce6-43d9-90b8-9d8878754dec",
   "metadata": {},
   "outputs": [],
   "source": []
  },
  {
   "cell_type": "code",
   "execution_count": null,
   "id": "4faf9af1-5ad6-40a1-8b62-aa63f11e3e20",
   "metadata": {},
   "outputs": [],
   "source": []
  },
  {
   "cell_type": "markdown",
   "id": "7a4a2987-7f39-406b-bc4a-ac15d3ebbf7d",
   "metadata": {},
   "source": [
    "**splitting data into train and test**"
   ]
  },
  {
   "cell_type": "code",
   "execution_count": 55,
   "id": "432c1397-6fc8-40b8-b61a-cfe920d5245a",
   "metadata": {},
   "outputs": [],
   "source": [
    "from sklearn.model_selection import train_test_split\n",
    "\n",
    "# split the data into test and train\n",
    "X_train,X_test,Y_train,Y_test = train_test_split(X,Y,test_size=0.3,random_state = 10)  \n"
   ]
  },
  {
   "cell_type": "code",
   "execution_count": 56,
   "id": "caa1f30b-fac1-478c-a6e8-d975d5a2d632",
   "metadata": {},
   "outputs": [
    {
     "name": "stdout",
     "output_type": "stream",
     "text": [
      "(482, 15)\n",
      "(207, 15)\n",
      "(482,)\n",
      "(207,)\n"
     ]
    }
   ],
   "source": [
    "print(X_train.shape)\n",
    "print(X_test.shape)\n",
    "print(Y_train.shape)\n",
    "print(Y_test.shape)"
   ]
  },
  {
   "cell_type": "code",
   "execution_count": null,
   "id": "e084a233-8756-4f31-bbc4-67e813be4045",
   "metadata": {},
   "outputs": [],
   "source": []
  },
  {
   "cell_type": "code",
   "execution_count": null,
   "id": "982b4895-820c-4a91-a155-ddc1ba764397",
   "metadata": {},
   "outputs": [],
   "source": []
  },
  {
   "cell_type": "markdown",
   "id": "02f14519-e25d-4a7b-8d89-f99d4975500b",
   "metadata": {},
   "source": [
    "# MODEL BUILDING"
   ]
  },
  {
   "cell_type": "code",
   "execution_count": null,
   "id": "40567fef-2e18-4a92-ae48-396ad95a2c7c",
   "metadata": {},
   "outputs": [],
   "source": []
  },
  {
   "cell_type": "markdown",
   "id": "36a0a218-cdbd-470b-bc5c-75b970da2b71",
   "metadata": {},
   "source": [
    "# LOGISTIC REGRESSION"
   ]
  },
  {
   "cell_type": "markdown",
   "id": "5c462d78-d18d-4a19-a5a2-0b99e2e94208",
   "metadata": {},
   "source": [
    "**TRAINING PHASE**"
   ]
  },
  {
   "cell_type": "code",
   "execution_count": 57,
   "id": "26616e05-ef0a-4fb9-959b-a1bb5a8abd43",
   "metadata": {},
   "outputs": [
    {
     "name": "stdout",
     "output_type": "stream",
     "text": [
      "[0.26322805]\n",
      "[[ 1.78322699e-01  2.53976522e-03  7.03504877e-02  5.60897571e-01\n",
      "   5.72653126e-01  5.90069143e-03 -9.15478376e-02 -3.38244553e-01\n",
      "  -1.09080247e+00 -1.65387866e-01 -2.09670011e-01  8.82597039e-02\n",
      "  -4.55034016e-02  9.09430731e-03 -4.32511405e-04]]\n"
     ]
    }
   ],
   "source": [
    "from sklearn.linear_model import LogisticRegression\n",
    "# create a model\n",
    "classifier=LogisticRegression(random_state=10)\n",
    "\n",
    "# fitting training data to the model...........(input is X and Y)\n",
    "classifier.fit(X_train,Y_train)\n",
    "\n",
    "# output is equation of liner regression \n",
    "print(classifier.intercept_)   \n",
    "print(classifier.coef_)     "
   ]
  },
  {
   "cell_type": "code",
   "execution_count": null,
   "id": "60001599-6bf5-43bf-9b46-6482f9398a6a",
   "metadata": {},
   "outputs": [],
   "source": []
  },
  {
   "cell_type": "code",
   "execution_count": 58,
   "id": "9c097eb9-2598-4867-85d2-c74931dc09df",
   "metadata": {},
   "outputs": [
    {
     "name": "stdout",
     "output_type": "stream",
     "text": [
      "[('b', 0.17832269860632252), ('30.83', 0.00253976522409084), ('0', 0.07035048771654451), ('u', 0.5608975713931001), ('g', 0.5726531261833715), ('w', 0.005900691434739444), ('v', -0.09154783763897341), ('1.25', -0.33824455335918646), ('t', -1.0908024674151906), ('t.1', -0.16538786614218232), ('01', -0.20967001103170924), ('f', 0.08825970393983461), ('g.1', -0.04550340156312907), ('00202', 0.009094307309444176), ('0.1', -0.00043251140473100956)]\n"
     ]
    }
   ],
   "source": [
    "# zipping to see kon se variable ka kya value aaya h\n",
    "print(list(zip(data.columns[0:-1],classifier.coef_.ravel())))"
   ]
  },
  {
   "cell_type": "code",
   "execution_count": null,
   "id": "36ccb492-eab3-4792-8dbc-3b1e7dcbe406",
   "metadata": {},
   "outputs": [],
   "source": []
  },
  {
   "cell_type": "markdown",
   "id": "bfd37506-0709-4440-bc70-e562cc92f051",
   "metadata": {},
   "source": [
    "**TESTING PHASE**"
   ]
  },
  {
   "cell_type": "code",
   "execution_count": 59,
   "id": "ddba6750-f804-4aff-a3e9-b10243993451",
   "metadata": {},
   "outputs": [
    {
     "name": "stdout",
     "output_type": "stream",
     "text": [
      "[1. 0. 1. 1. 1. 1. 1. 0. 1. 0. 0. 1. 1. 1. 1. 1. 0. 1. 1. 0. 0. 0. 0. 0.\n",
      " 1. 1. 1. 1. 1. 0. 1. 1. 1. 1. 1. 1. 0. 1. 0. 1. 1. 1. 0. 0. 1. 0. 1. 0.\n",
      " 0. 1. 0. 1. 1. 0. 1. 0. 0. 1. 1. 1. 1. 1. 1. 0. 1. 1. 1. 0. 1. 0. 0. 0.\n",
      " 0. 1. 1. 0. 1. 1. 0. 0. 1. 0. 0. 1. 0. 1. 1. 1. 1. 1. 1. 0. 1. 1. 1. 1.\n",
      " 0. 0. 0. 0. 0. 1. 0. 1. 0. 1. 0. 0. 1. 1. 0. 0. 1. 1. 1. 0. 1. 1. 1. 1.\n",
      " 1. 1. 0. 1. 0. 1. 1. 0. 1. 1. 0. 1. 0. 1. 0. 0. 0. 1. 1. 1. 1. 1. 1. 1.\n",
      " 0. 0. 1. 1. 1. 1. 0. 1. 0. 1. 0. 1. 0. 1. 0. 1. 1. 1. 1. 0. 0. 0. 1. 0.\n",
      " 0. 1. 1. 0. 1. 1. 1. 0. 0. 1. 1. 1. 1. 1. 1. 0. 0. 1. 1. 0. 1. 1. 0. 1.\n",
      " 0. 1. 0. 1. 0. 0. 0. 1. 0. 0. 0. 1. 1. 0. 1.]\n"
     ]
    }
   ],
   "source": [
    "Y_pred=classifier.predict(X_test)\n",
    "print(Y_pred)"
   ]
  },
  {
   "cell_type": "code",
   "execution_count": null,
   "id": "6678b9d2-061b-4fbb-9580-550c4d983947",
   "metadata": {},
   "outputs": [],
   "source": []
  },
  {
   "cell_type": "markdown",
   "id": "d571c9d8-74ba-44ac-80fd-ebb37759d794",
   "metadata": {},
   "source": [
    "**PROBABILITY MATRIX**"
   ]
  },
  {
   "cell_type": "code",
   "execution_count": 60,
   "id": "8376884f-9e6c-478e-8778-7fc3eabed567",
   "metadata": {},
   "outputs": [],
   "source": [
    "Y_pred_prob = classifier.predict_proba(X_test)\n",
    "#print(Y_pred_prob)"
   ]
  },
  {
   "cell_type": "code",
   "execution_count": null,
   "id": "dda235ee-64ef-439d-bcd4-44174b4bcee7",
   "metadata": {},
   "outputs": [],
   "source": []
  },
  {
   "cell_type": "markdown",
   "id": "884b7673-a4a9-48c9-88b7-c13bfa55de63",
   "metadata": {},
   "source": [
    "**COMPARING ACTUAL WITH PREDICTED**"
   ]
  },
  {
   "cell_type": "code",
   "execution_count": null,
   "id": "6a088c81-ff4e-44db-9dcb-0813340451ca",
   "metadata": {},
   "outputs": [],
   "source": [
    "#print(list(zip(Y_test,Y_pred)))"
   ]
  },
  {
   "cell_type": "code",
   "execution_count": null,
   "id": "c47110f4-7039-4dbc-8be1-699d30285e6b",
   "metadata": {},
   "outputs": [],
   "source": []
  },
  {
   "cell_type": "markdown",
   "id": "f7b4f272-a40f-48eb-a94b-7c4424c6fb12",
   "metadata": {},
   "source": [
    "**EVALUATION PHASE**"
   ]
  },
  {
   "cell_type": "code",
   "execution_count": 61,
   "id": "91bf1e40-7969-4cbf-946a-85e290bfecb2",
   "metadata": {},
   "outputs": [
    {
     "name": "stdout",
     "output_type": "stream",
     "text": [
      "[[70 25]\n",
      " [13 99]]\n",
      "Classification report: \n",
      "              precision    recall  f1-score   support\n",
      "\n",
      "         0.0       0.84      0.74      0.79        95\n",
      "         1.0       0.80      0.88      0.84       112\n",
      "\n",
      "    accuracy                           0.82       207\n",
      "   macro avg       0.82      0.81      0.81       207\n",
      "weighted avg       0.82      0.82      0.81       207\n",
      "\n",
      "Accuracy of the model:  0.8164251207729468\n"
     ]
    }
   ],
   "source": [
    "from sklearn.metrics import confusion_matrix, accuracy_score, classification_report\n",
    " \n",
    "# confusion matrix\n",
    "cfm=confusion_matrix(Y_test,Y_pred)\n",
    "print(cfm)\n",
    " \n",
    "print(\"Classification report: \")\n",
    "print(classification_report(Y_test,Y_pred))\n",
    "\n",
    "# accuracy_score\n",
    "acc=accuracy_score(Y_test, Y_pred)\n",
    "print(\"Accuracy of the model: \",acc)"
   ]
  },
  {
   "cell_type": "code",
   "execution_count": null,
   "id": "c48bc6ed-e051-4765-aa5b-003383ab1fb6",
   "metadata": {},
   "outputs": [],
   "source": []
  },
  {
   "cell_type": "markdown",
   "id": "320fe2cf-e451-46bd-8934-7d84437767db",
   "metadata": {},
   "source": [
    "**TUNNING**"
   ]
  },
  {
   "cell_type": "code",
   "execution_count": 74,
   "id": "31c8b89a-b73e-4d51-8cd4-19100f85a35b",
   "metadata": {},
   "outputs": [
    {
     "name": "stdout",
     "output_type": "stream",
     "text": [
      "[[ 61  34]\n",
      " [  7 105]]\n",
      "Classification report: \n",
      "              precision    recall  f1-score   support\n",
      "\n",
      "         0.0       0.90      0.64      0.75        95\n",
      "         1.0       0.76      0.94      0.84       112\n",
      "\n",
      "    accuracy                           0.80       207\n",
      "   macro avg       0.83      0.79      0.79       207\n",
      "weighted avg       0.82      0.80      0.80       207\n",
      "\n",
      "Accuracy of the model:  0.8019323671497585\n"
     ]
    }
   ],
   "source": [
    "y_pred_prob = classifier.predict_proba(X_test)\n",
    "#print(y_pred_prob)\n",
    "\n",
    "\n",
    "y_pred_class = []\n",
    "for value in y_pred_prob[:,1]:\n",
    "    if value >0.4:                         # agar value 0.5 se jayada h to consider as 1\n",
    "        y_pred_class.append(1)\n",
    "    else:\n",
    "        y_pred_class.append(0)              # agar value 0.5 se kum h to consider as 0\n",
    "\n",
    "\n",
    "from sklearn.metrics import confusion_matrix, accuracy_score, classification_report\n",
    " \n",
    "# confusion matrix\n",
    "cfm=confusion_matrix(Y_test,y_pred_class)\n",
    "print(cfm)\n",
    " \n",
    "print(\"Classification report: \")\n",
    " \n",
    "print(classification_report(Y_test,y_pred_class))\n",
    "\n",
    "\n",
    "# accuracy_score\n",
    "acc=accuracy_score(Y_test, y_pred_class)\n",
    "print(\"Accuracy of the model: \",acc)"
   ]
  },
  {
   "cell_type": "code",
   "execution_count": null,
   "id": "ffdfe340-68bf-4a25-91f4-5ca63c4a547d",
   "metadata": {},
   "outputs": [],
   "source": []
  },
  {
   "cell_type": "code",
   "execution_count": null,
   "id": "65f438ac-184d-444b-b5bc-5c36b12810c8",
   "metadata": {},
   "outputs": [],
   "source": []
  },
  {
   "cell_type": "markdown",
   "id": "633fb396-bf20-4692-83bf-fb88c11354f6",
   "metadata": {},
   "source": [
    "# DECISION TREE"
   ]
  },
  {
   "cell_type": "code",
   "execution_count": 75,
   "id": "63067d41-543a-434e-bbc4-884c775a6297",
   "metadata": {},
   "outputs": [
    {
     "name": "stdout",
     "output_type": "stream",
     "text": [
      "[[72 23]\n",
      " [18 94]]\n",
      "0.8019323671497585\n",
      "              precision    recall  f1-score   support\n",
      "\n",
      "         0.0       0.80      0.76      0.78        95\n",
      "         1.0       0.80      0.84      0.82       112\n",
      "\n",
      "    accuracy                           0.80       207\n",
      "   macro avg       0.80      0.80      0.80       207\n",
      "weighted avg       0.80      0.80      0.80       207\n",
      "\n"
     ]
    },
    {
     "data": {
      "text/plain": [
       "1.0"
      ]
     },
     "execution_count": 75,
     "metadata": {},
     "output_type": "execute_result"
    }
   ],
   "source": [
    "#predicting using the Decision_Tree_Classifier\n",
    "from sklearn.tree import DecisionTreeClassifier\n",
    "\n",
    "model_DT=DecisionTreeClassifier(random_state=10, \n",
    "                                         criterion=\"gini\")\n",
    "#min_samples_leaf, min_samples_split, max_depth, max_features, max_leaf_nodes\n",
    "\n",
    "#fit the model on the data and predict the values\n",
    "model_DT.fit(X_train,Y_train)\n",
    "Y_pred=model_DT.predict(X_test)\n",
    "#print(Y_pred)\n",
    "#print(list(zip(Y_test,Y_pred)))\n",
    "\n",
    "from sklearn.metrics import confusion_matrix, accuracy_score,classification_report\n",
    "#confusion matrix\n",
    "print(confusion_matrix(Y_test,Y_pred))\n",
    "print(accuracy_score(Y_test,Y_pred))\n",
    "print(classification_report(Y_test,Y_pred))\n",
    "\n",
    "model_DT.score(X_train,Y_train)"
   ]
  },
  {
   "cell_type": "code",
   "execution_count": null,
   "id": "15d42fe5-b9d9-4f0d-92b4-19166f0937e2",
   "metadata": {},
   "outputs": [],
   "source": []
  },
  {
   "cell_type": "code",
   "execution_count": null,
   "id": "2bafd07b-6ce8-47de-81d1-86600f0d59b0",
   "metadata": {},
   "outputs": [],
   "source": []
  },
  {
   "cell_type": "markdown",
   "id": "f34ce5c1-2021-49d7-9b29-7e77bf840983",
   "metadata": {},
   "source": [
    "**PRUNNING DECISION TREE**"
   ]
  },
  {
   "cell_type": "code",
   "execution_count": 89,
   "id": "c06d675c-057b-476a-97f4-d7023c2e7cc3",
   "metadata": {},
   "outputs": [
    {
     "name": "stdout",
     "output_type": "stream",
     "text": [
      "[[78 17]\n",
      " [17 95]]\n",
      "0.8357487922705314\n",
      "              precision    recall  f1-score   support\n",
      "\n",
      "         0.0       0.82      0.82      0.82        95\n",
      "         1.0       0.85      0.85      0.85       112\n",
      "\n",
      "    accuracy                           0.84       207\n",
      "   macro avg       0.83      0.83      0.83       207\n",
      "weighted avg       0.84      0.84      0.84       207\n",
      "\n"
     ]
    }
   ],
   "source": [
    "#predicting using the Decision_Tree_Classifier\n",
    "from sklearn.tree import DecisionTreeClassifier\n",
    "\n",
    "model_DT=DecisionTreeClassifier(random_state=10, \n",
    "                                         criterion=\"gini\",\n",
    "                                         splitter=\"best\", \n",
    "                                         min_samples_leaf=6,\n",
    "                                         min_samples_split=5,\n",
    "                                         max_depth=15, \n",
    "                                        #max_leaf_nodes=100,\n",
    "                                         # max_features=0.6\n",
    "                                         )\n",
    "#min_samples_leaf, min_samples_split, max_depth, max_features, max_leaf_nodes\n",
    "\n",
    "#fit the model on the data and predict the values\n",
    "model_DT.fit(X_train,Y_train)\n",
    "Y_pred=model_DT.predict(X_test)\n",
    "\n",
    "\n",
    "from sklearn.metrics import confusion_matrix, accuracy_score,classification_report\n",
    "#confusion matrix\n",
    "print(confusion_matrix(Y_test,Y_pred))\n",
    "print(accuracy_score(Y_test,Y_pred))\n",
    "print(classification_report(Y_test,Y_pred))"
   ]
  },
  {
   "cell_type": "code",
   "execution_count": null,
   "id": "2b9ecce2-f281-4326-a238-e6fb51f14665",
   "metadata": {},
   "outputs": [],
   "source": []
  },
  {
   "cell_type": "code",
   "execution_count": null,
   "id": "b60edadc-4ade-48ed-bf78-55541dacf216",
   "metadata": {},
   "outputs": [],
   "source": []
  },
  {
   "cell_type": "markdown",
   "id": "47df79d2-5678-4af6-a51a-7776b92a8214",
   "metadata": {},
   "source": [
    "# RANDOM FOREST"
   ]
  },
  {
   "cell_type": "code",
   "execution_count": 90,
   "id": "62748263-493f-43ad-b4f1-bd304704de66",
   "metadata": {},
   "outputs": [
    {
     "name": "stdout",
     "output_type": "stream",
     "text": [
      "[[85 10]\n",
      " [13 99]]\n",
      "0.8888888888888888\n",
      "              precision    recall  f1-score   support\n",
      "\n",
      "         0.0       0.87      0.89      0.88        95\n",
      "         1.0       0.91      0.88      0.90       112\n",
      "\n",
      "    accuracy                           0.89       207\n",
      "   macro avg       0.89      0.89      0.89       207\n",
      "weighted avg       0.89      0.89      0.89       207\n",
      "\n"
     ]
    }
   ],
   "source": [
    "#predicting using the Random_Forest_Classifier\n",
    "from sklearn.ensemble import RandomForestClassifier\n",
    "\n",
    "model_RandomForest=RandomForestClassifier(n_estimators=100,\n",
    "                                          random_state=10, bootstrap=True,\n",
    "                                         n_jobs=-1)\n",
    "\n",
    "#fit the model on the data and predict the values\n",
    "model_RandomForest.fit(X_train,Y_train)\n",
    "\n",
    "Y_pred=model_RandomForest.predict(X_test)\n",
    "\n",
    "\n",
    "from sklearn.metrics import confusion_matrix, accuracy_score,classification_report\n",
    "#confusion matrix\n",
    "print(confusion_matrix(Y_test,Y_pred))\n",
    "print(accuracy_score(Y_test,Y_pred))\n",
    "print(classification_report(Y_test,Y_pred))"
   ]
  },
  {
   "cell_type": "code",
   "execution_count": null,
   "id": "810fe76c-fbb9-405b-bb2a-96f54c3c40ca",
   "metadata": {},
   "outputs": [],
   "source": []
  },
  {
   "cell_type": "code",
   "execution_count": null,
   "id": "3558218c-e72e-4aae-950a-fd6631d05a67",
   "metadata": {},
   "outputs": [],
   "source": []
  },
  {
   "cell_type": "markdown",
   "id": "6d693b4a-4665-47c5-956b-0db2d8e5d9ad",
   "metadata": {},
   "source": [
    "# EXTRA TREES"
   ]
  },
  {
   "cell_type": "code",
   "execution_count": 91,
   "id": "a96ba840-0d2b-4208-a818-7cbccc76e3a0",
   "metadata": {},
   "outputs": [
    {
     "name": "stdout",
     "output_type": "stream",
     "text": [
      "[[85 10]\n",
      " [13 99]]\n",
      "0.8888888888888888\n",
      "              precision    recall  f1-score   support\n",
      "\n",
      "         0.0       0.87      0.89      0.88        95\n",
      "         1.0       0.91      0.88      0.90       112\n",
      "\n",
      "    accuracy                           0.89       207\n",
      "   macro avg       0.89      0.89      0.89       207\n",
      "weighted avg       0.89      0.89      0.89       207\n",
      "\n"
     ]
    }
   ],
   "source": [
    "#predicting using the Extra_Trees_Classifier\n",
    "from sklearn.ensemble import ExtraTreesClassifier\n",
    "\n",
    "model_EXT=ExtraTreesClassifier(n_estimators=300, random_state=10, bootstrap=True)\n",
    "\n",
    "#fit the model on the data and predict the values\n",
    "model_EXT.fit(X_train,Y_train)\n",
    "\n",
    "Y_pred=model_EXT.predict(X_test)\n",
    "\n",
    "\n",
    "\n",
    "from sklearn.metrics import confusion_matrix, accuracy_score,classification_report\n",
    "#confusion matrix\n",
    "print(confusion_matrix(Y_test,Y_pred))\n",
    "print(accuracy_score(Y_test,Y_pred))\n",
    "print(classification_report(Y_test,Y_pred))"
   ]
  },
  {
   "cell_type": "code",
   "execution_count": null,
   "id": "65ead550-f275-407d-b3dd-a062d3b3aa14",
   "metadata": {},
   "outputs": [],
   "source": []
  },
  {
   "cell_type": "markdown",
   "id": "2acc7b4d-2366-4438-bbb7-46837ea9fde1",
   "metadata": {},
   "source": [
    "CONCLUSION:   \n",
    "Out of all these Tuned logistic regression models give the hisggest accuaracy at required class\n"
   ]
  },
  {
   "cell_type": "code",
   "execution_count": null,
   "id": "f791f133-7814-42fc-af1a-040f11546e94",
   "metadata": {},
   "outputs": [],
   "source": []
  }
 ],
 "metadata": {
  "kernelspec": {
   "display_name": "Python 3 (ipykernel)",
   "language": "python",
   "name": "python3"
  },
  "language_info": {
   "codemirror_mode": {
    "name": "ipython",
    "version": 3
   },
   "file_extension": ".py",
   "mimetype": "text/x-python",
   "name": "python",
   "nbconvert_exporter": "python",
   "pygments_lexer": "ipython3",
   "version": "3.12.4"
  }
 },
 "nbformat": 4,
 "nbformat_minor": 5
}
